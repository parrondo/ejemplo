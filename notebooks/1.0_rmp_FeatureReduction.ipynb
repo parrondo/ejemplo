{
 "cells": [
  {
   "cell_type": "markdown",
   "metadata": {},
   "source": [
    "<!--<div style=float:right><img src=\"assets/img/applied-logo_100px.png\"></img></div>-->\n",
    "\n",
    "#### Applied AI Internal Demo Project\n",
    "## Feature Reduction with SVD\n",
    "\n",
    "The project demonstrates using Singular Value Decomposition (SVD) for Feature Reduction.\n",
    "\n",
    "# 01_FeatureReduction\n",
    "\n",
    "+ [Setup](#Setup)\n",
    "    + [Local Functions](#Local-Functions)\n",
    "    + [Load Data](#Load-Data)\n",
    "    \n",
    "    \n",
    "+ [Brief Primer on Matrix Algebra](#Brief-Primer-on-Matrix-Algebra)\n",
    "\n",
    "\n",
    "+ [Overview of Singuar Value Decomposition (SVD)](#Overview-of-Singuar-Value-Decomposition-[SVD])\n",
    "\n",
    "\n",
    "+ [Worked Example Full SVD](#Worked-Example-Full-SVD)\n",
    "    + [Choose $A$](#Choose-A)\n",
    "    + [Create $U$](#Create-U)\n",
    "    + [Create $V$](#Create-V)\n",
    "    + [Create $S$](#Create-S)    \n",
    "    + [Reconstruct $A$](#Reconstruct-A)\n",
    "    \n",
    "    \n",
    "+ [Using SVD for Feature Reduction](#Using-SVD-for-Feature-Reduction)\n",
    "    + [Load Iris Dataset and Visualise](#Load-Iris-Dataset-and-Visualise)\n",
    "    + [Perform Feature Reduction](#Perform-Feature-Reduction)\n",
    "    + [Visualise Reduced Dataset](#Visualise-Reduced-Dataset)\n",
    "    \n",
    "    \n",
    "+ [Further Reading](#Further-Reading)"
   ]
  },
  {
   "cell_type": "markdown",
   "metadata": {},
   "source": [
    "# Setup"
   ]
  },
  {
   "cell_type": "code",
   "execution_count": 1,
   "metadata": {
    "collapsed": true
   },
   "outputs": [],
   "source": [
    "import warnings\n",
    "warnings.filterwarnings('ignore')\n",
    "\n",
    "## Interactive magics - comment out if running from another script\n",
    "%matplotlib inline\n",
    "%qtconsole"
   ]
  },
  {
   "cell_type": "code",
   "execution_count": 2,
   "metadata": {
    "collapsed": true
   },
   "outputs": [],
   "source": [
    "import numpy as np\n",
    "import matplotlib.pyplot as plt\n",
    "import pandas as pd\n",
    "import seaborn as sns\n",
    "\n",
    "sns.set(style='darkgrid', palette='muted')\n",
    "pd.set_option('display.mpl_style', 'default')\n",
    "pd.set_option('display.notebook_repr_html', True)\n",
    "plt.rcParams['figure.figsize'] = 10, 6\n",
    "np.random.seed(0)"
   ]
  },
  {
   "cell_type": "markdown",
   "metadata": {},
   "source": [
    "## Local Functions"
   ]
  },
  {
   "cell_type": "code",
   "execution_count": 3,
   "metadata": {
    "collapsed": true
   },
   "outputs": [],
   "source": [
    "def find_nice_A(shortcut=False, lim=1000000):\n",
    "    \"\"\" \n",
    "    find a 'nice' original array A, such that the eigenvalues\n",
    "    of U and V are integers.\n",
    "    (require discriminant of the determinant characteristic eqn\n",
    "        to be +positive perfect square)\n",
    "    \"\"\"\n",
    "    if shortcut:\n",
    "        A = np.array([[5, 0, 2, 4]\n",
    "                     ,[2, 6, 1, 2]])\n",
    "    else:\n",
    "        A = np.random.randint(0,9,(2,4))\n",
    "    \n",
    "    roots = set(np.arange(50))\n",
    "\n",
    "    for i in range(lim):\n",
    "        U = A @ A.T\n",
    "\n",
    "        a = 1\n",
    "        b = - U[0,0] - U[1,1]\n",
    "        c = (U[0,0] * U[1,1]) - (U[0,1] * U[1,0])\n",
    "\n",
    "        if np.sqrt((b**2) - (4*a*c)) in roots:\n",
    "            \n",
    "            V = A.T @ A\n",
    "\n",
    "            a = 1\n",
    "            b = - V[0,0] - V[1,1]\n",
    "            c = (V[0,0] * V[1,1]) - (V[0,1] * V[1,0])\n",
    "\n",
    "            if np.sqrt((b**2) - (4*a*c)) in roots:\n",
    "                \n",
    "                if (np.sum(A==0) == 1) & (np.sum(A[0,:] - A[1,:]) == 0):\n",
    "                \n",
    "                    return A, i\n",
    "    \n",
    "        A = np.random.randint(0,9,(2,4))       \n",
    "\n",
    "    return 'not found', lim"
   ]
  },
  {
   "cell_type": "markdown",
   "metadata": {},
   "source": [
    "## Load Data"
   ]
  },
  {
   "cell_type": "code",
   "execution_count": 4,
   "metadata": {
    "collapsed": true
   },
   "outputs": [],
   "source": [
    "# None at present"
   ]
  },
  {
   "cell_type": "markdown",
   "metadata": {},
   "source": [
    "---"
   ]
  },
  {
   "cell_type": "markdown",
   "metadata": {},
   "source": [
    "# Brief Primer on Matrix Algebra"
   ]
  },
  {
   "cell_type": "markdown",
   "metadata": {},
   "source": [
    "## Basic Matrix Algebra"
   ]
  },
  {
   "cell_type": "markdown",
   "metadata": {},
   "source": [
    "Lets create $X$, an $m * n$ matrix with $m=2, n=3$. This matrix has 2 rows and 3 columns, and I'll use it as the representation of 2 row vectors, each described in 3 dimensions."
   ]
  },
  {
   "cell_type": "code",
   "execution_count": 5,
   "metadata": {},
   "outputs": [
    {
     "data": {
      "text/plain": [
       "array([[1, 2, 3],\n",
       "       [4, 5, 6]])"
      ]
     },
     "execution_count": 5,
     "metadata": {},
     "output_type": "execute_result"
    }
   ],
   "source": [
    "X = np.array([[1, 2, 3]\n",
    "             ,[4, 5, 6]])\n",
    "X"
   ]
  },
  {
   "cell_type": "markdown",
   "metadata": {},
   "source": [
    "### Some things we might want to compute on $X$ are:\n",
    "    \n",
    "##### Scalar multiplication\n",
    "\n",
    "This is simple 'item-wise' multiplication"
   ]
  },
  {
   "cell_type": "code",
   "execution_count": 14,
   "metadata": {},
   "outputs": [
    {
     "data": {
      "text/plain": [
       "array([[ 2,  4,  6],\n",
       "       [ 8, 10, 12]])"
      ]
     },
     "execution_count": 14,
     "metadata": {},
     "output_type": "execute_result"
    }
   ],
   "source": [
    "X * 2"
   ]
  },
  {
   "cell_type": "markdown",
   "metadata": {},
   "source": [
    "##### The transpose matrix $X^{T}$\n",
    "\n",
    "This is just a 'folding' around the diagonal"
   ]
  },
  {
   "cell_type": "code",
   "execution_count": 15,
   "metadata": {},
   "outputs": [
    {
     "data": {
      "text/plain": [
       "array([[ 2,  8],\n",
       "       [ 4, 10],\n",
       "       [ 6, 12]])"
      ]
     },
     "execution_count": 15,
     "metadata": {},
     "output_type": "execute_result"
    }
   ],
   "source": [
    "Y = (X * 2).T\n",
    "Y"
   ]
  },
  {
   "cell_type": "markdown",
   "metadata": {},
   "source": [
    "##### Matrix Multiplication\n",
    "\n",
    "For $X Y$, we take the inner product of the row vectors of $X$ and the column vectors of $Y$. Lets index the resulting matrix $XY$ as follows:\n",
    "\n",
    "$$ X Y = \\begin{bmatrix} xy_{11} & xy_{12} \\\\ xy_{21} & xy_{22} \\end{bmatrix}$$\n",
    "\n",
    "And we could work out each part of the $XY$ like:\n",
    "\n",
    "$$ xy_{11} = \\begin{bmatrix} 1 & 2 & 3 \\end{bmatrix} \\begin{bmatrix} 2 \\\\ 4 \\\\ 6 \\end{bmatrix} = (1 * 2) + (2 * 4) + (3 * 6) = 28$$\n",
    "\n",
    "and so on for $xy_{12}$ etc, until we arrive at the result:\n",
    "\n",
    "$$ X Y = \\begin{bmatrix} 28 & 64 \\\\ 64 & 154 \\end{bmatrix}$$\n",
    "\n",
    "We can use a numpy function `np.dot` to do this more easily:\n"
   ]
  },
  {
   "cell_type": "code",
   "execution_count": 12,
   "metadata": {},
   "outputs": [
    {
     "data": {
      "text/plain": [
       "array([[ 42,  96],\n",
       "       [ 96, 231]])"
      ]
     },
     "execution_count": 12,
     "metadata": {},
     "output_type": "execute_result"
    }
   ],
   "source": [
    "np.dot(X, Y)"
   ]
  },
  {
   "cell_type": "markdown",
   "metadata": {},
   "source": [
    "In fact, this is a Python 3.5 project so lets use the brand-new @ operator for matrix multiplication (https://docs.python.org/3/whatsnew/3.5.html#whatsnew-pep-465):"
   ]
  },
  {
   "cell_type": "code",
   "execution_count": 13,
   "metadata": {},
   "outputs": [
    {
     "data": {
      "text/plain": [
       "array([[ 42,  96],\n",
       "       [ 96, 231]])"
      ]
     },
     "execution_count": 13,
     "metadata": {},
     "output_type": "execute_result"
    }
   ],
   "source": [
    "X @ Y"
   ]
  },
  {
   "cell_type": "markdown",
   "metadata": {},
   "source": [
    "##### The Determinant\n",
    "\n",
    "This is a function that operates on a square matrix $A$ to reduce it to a single number. \n",
    "\n",
    "$$|A| = \\begin{vmatrix} a & b \\\\c & d\\end{vmatrix} = ad - bc$$\n",
    "\n",
    "The determinant is not defined for a non-square matrix, so lets remove a dimension for this bit only:"
   ]
  },
  {
   "cell_type": "code",
   "execution_count": 10,
   "metadata": {},
   "outputs": [
    {
     "data": {
      "text/plain": [
       "array([[1, 2],\n",
       "       [4, 5]])"
      ]
     },
     "execution_count": 10,
     "metadata": {},
     "output_type": "execute_result"
    }
   ],
   "source": [
    "A = X[:,:2]\n",
    "A"
   ]
  },
  {
   "cell_type": "code",
   "execution_count": 11,
   "metadata": {},
   "outputs": [
    {
     "data": {
      "text/plain": [
       "-3"
      ]
     },
     "execution_count": 11,
     "metadata": {},
     "output_type": "execute_result"
    }
   ],
   "source": [
    "(A[0,0] * A[1,1]) - (A[0,1] * A[1,0])"
   ]
  },
  {
   "cell_type": "markdown",
   "metadata": {},
   "source": [
    "In fact, we can use a numpy function here too. Note the solver introduces floating point rounding:"
   ]
  },
  {
   "cell_type": "code",
   "execution_count": 12,
   "metadata": {},
   "outputs": [
    {
     "data": {
      "text/plain": [
       "-2.9999999999999996"
      ]
     },
     "execution_count": 12,
     "metadata": {},
     "output_type": "execute_result"
    }
   ],
   "source": [
    "np.linalg.det(A)"
   ]
  },
  {
   "cell_type": "markdown",
   "metadata": {},
   "source": [
    "## Eigenvalues and Eigenvectors"
   ]
  },
  {
   "cell_type": "markdown",
   "metadata": {},
   "source": [
    "An _eigenvector_ is a nonzero vector $\\overrightarrow{v}$ that relates a square matrix $M$ to a scalar _eigenvalue_ $\\lambda$:\n",
    "\n",
    "$$M \\overrightarrow{v} = \\lambda \\overrightarrow{v}$$\n",
    "\n",
    "A method for finding $\\overrightarrow{v}$ and $\\lambda$ is to treat the above as a series of linear equations and solve (using the determinant):\n",
    "\n",
    "$$ M = \\begin{bmatrix} 1 & 2 \\\\ 4 & 3 \\end{bmatrix} $$\n",
    "\n",
    "##### Finding the eigenvalues $\\lambda$:\n",
    " \n",
    "$$ M \\overrightarrow{v} = \\lambda \\overrightarrow{v} = \\begin{bmatrix} 1 & 2 \\\\ 4 & 3 \\end{bmatrix} \\begin{bmatrix} v_{1} \\\\ v_{2} \\end{bmatrix} = \\lambda \\begin{bmatrix} v_{1} \\\\ v_{2} \\end{bmatrix}$$\n",
    "\n",
    "We now treat each row as a part of a set of linear equations:\n",
    "\n",
    "$$1v_{1} + 2v_{2} = \\lambda v_{1} \\\\4v_{1} + 3v_{2} = \\lambda v_{2}$$\n",
    "\n",
    "... and rearrange:\n",
    "\n",
    "$$(1 - \\lambda)v_{1} + 2v_{2} = 0 \\\\4v_{1} + (3-\\lambda) v_{2} = 0$$\n",
    "\n",
    "Now we make use of of the necessary and sufficient condition that for this system to have a nonzero vector $\\overrightarrow{v}$, the determinant of the coefficient matrix must be zero:\n",
    "\n",
    "$$ \\begin{vmatrix} (1 - \\lambda) & 2 \\\\ 4 & (3 - \\lambda)\\end{vmatrix} = 0$$\n",
    "\n",
    "Using the simple determinant calculation from before:\n",
    "\n",
    "$$ (1 - \\lambda) (3 - \\lambda) -  (2 * 4)  = 0$$\n",
    "\n",
    "$$ \\lambda^{2} - 4\\lambda - 5 = 0$$\n",
    "\n",
    "$$ (\\lambda + 1) (\\lambda - 5) = 0$$\n",
    "\n",
    "So the two eigenvalues for this matrix are $\\lambda = -1$ and $\\lambda =5$\n",
    "\n",
    "\n",
    "##### Finding the eigenvectors $\\overrightarrow{v}$:\n",
    "\n",
    "\n",
    "We now plug our values for $\\lambda$ back into an equation from above, and reduce:\n",
    "\n",
    "\n",
    "Chosing the biggest eigenvalue first, i.e. setting $\\lambda = 5$:\n",
    "\n",
    "$$(1 - \\lambda)v_{1} + 2v_{2} = (1 - 5)v_{1} + 2v_{2} = -4v_{1} + 2v_{2} = 0$$\n",
    "\n",
    "This reduces to $2v_{1} = v_{2}$ which has infinite values, so by convention we'll select the smallest possible vector that satisfies the equation: \n",
    "\n",
    "$$\\overrightarrow{v} = \\begin{bmatrix} 1 \\\\ 2 \\end{bmatrix}$$\n",
    "\n",
    "\n",
    "Secondly, setting $\\lambda = - 1$:\n",
    "\n",
    "$$(1 - \\lambda)v_{1} + 2v_{2} = (1 + 1)v_{1} + 2v_{2} = 2v_{1} + 2v_{2} = 0$$\n",
    "\n",
    "This reduces to $v_{1} = v_{2}$ which has infinite values, so by convention we'll select the smallest possible vector that satisfies the equation:\n",
    "\n",
    "$$\\overrightarrow{v} = \\begin{bmatrix} 1 \\\\ 1 \\end{bmatrix}$$\n",
    "\n",
    "\n",
    "##### Completing the thought:\n",
    "\n",
    "Going back to the original equation $M \\overrightarrow{v} = \\lambda \\overrightarrow{v}$, we can show that for this matrix $M$, there are two eigenvalues and two eigenvectors:\n",
    "\n",
    "$$ \\begin{bmatrix} 1 & 2 \\\\ 4 & 3 \\end{bmatrix} \\begin{bmatrix} 1 \\\\ 2 \\end{bmatrix} = 5 \\begin{bmatrix} 1 \\\\ 2 \\end{bmatrix} $$\n",
    "\n",
    "and\n",
    "\n",
    "$$ \\begin{bmatrix} 1 & 2 \\\\ 4 & 3 \\end{bmatrix} \\begin{bmatrix} 1 \\\\ 1 \\end{bmatrix} = -1 \\begin{bmatrix} 1 \\\\ 1 \\end{bmatrix} $$"
   ]
  },
  {
   "cell_type": "markdown",
   "metadata": {},
   "source": [
    "---"
   ]
  },
  {
   "cell_type": "markdown",
   "metadata": {},
   "source": [
    "# Overview of Singular Value Decomposition [SVD]"
   ]
  },
  {
   "cell_type": "markdown",
   "metadata": {
    "collapsed": true
   },
   "source": [
    "Forms of SVD were developed independently by various mathematicians around the turn of the 20th century (see [wikipedia article](https://en.wikipedia.org/wiki/Singular_value_decomposition#History)), and stated simply, it is a particular decomposition of an arbitrary matrix $A$ with $m$ rows and $n$ columns into a set of related matrices:\n",
    "\n",
    "$$A = U S V^{T}$$\n",
    "\n",
    "where:\n",
    "\n",
    "$A$ is an arbitrary $m * n$ matrix (for our purposes we will assume the values are all real),  \n",
    "$U$ is a $m * m$ orthonormal matrix of 'left-singular' (eigen)vectors of $AA^{T}$,  \n",
    "$V^{T}$ is a $n * n$ orthonormal matrix of 'right-singular' (eigen)vectors of $A^{T}A$, &dagger;     \n",
    "$S$ is a $m * n$ diagonal matrix of the square root of nonzero eigenvalues of $U$ _or_ $V$ &Dagger;, ordered by decreasing size.\n",
    "\n",
    "\n",
    "&dagger; : the columns of $V$ are the eigenvectors, so they appear on the rows of $V^{T}$  \n",
    "&Dagger; : it's a property that the nonzero eigenvalues of $U$ and $V$ are the same.\n",
    "\n",
    "\n",
    "A very frequent use for SVD, and the primary use in this notebook is for **feature reduction**. That is, we can select the first $k$ eigenvalues in $S$ (where $k < n$) and use this subselection to reconstruct a 'thinner' or 'reduced' version of $A$, $A\\prime = U\\prime S\\prime V\\prime^{T}$, which has fewer columns (aka fewer features). By selecting the first $k$ eigenvalues we ensure that $A\\prime$ retains a disproportionately high amount of the variance of $A$; we have in effect compressed the original information and represented it using fewer features.\n",
    "\n",
    "This usage of SVD is very similar to Principal Components Analysis (PCA) and in fact several numerical software libraries actually use SVD under the hood for their PCA routines; for example `sklearn.decomposition.PCA` within `scikit-learn` in Python. \n",
    "\n",
    "Conventional PCA is an analytical method that requires us to calculate the covariance matrix $covA = A^{T}A/(n-1)$. I won't go into the similarities of PCA and SVD here, instead the interested reader may wish to read these very informative exchanges on Stack Overflow: http://stats.stackexchange.com/questions/134282/relationship-between-svd-and-pca-how-to-use-svd-to-perform-pca.\n",
    "\n",
    "Two points that do stand out though, are:\n",
    "+ It's possible to perform a reduced-SVD (detailed below), which only needs us to calculate $U S V^{T}$ for the first $k < n$ features; this makes it far quicker to compute than the full covariance matrix as computed within PCA.\n",
    "+ In the case that we have many more features than samples $n >> m$, $covA$ will be singular and cannot be inverted, thus SVD as more stable, linear algebraic method is often preferred.\n",
    "\n",
    "Ultimately, we use the outputs of the SVD as:\n",
    "\n",
    "+ The principal component values $U_{k<m}S_{k<m}$, a $m * k$ matrix describing each row in dataset in a more compact set of components which approximate the original full dimensions, and\n",
    "+ The principal directions (or 'principal axes') as the columns of $V$, a $n * n$ matrix describing the rotation of the axes relative to the original vector space.\n"
   ]
  },
  {
   "cell_type": "markdown",
   "metadata": {
    "collapsed": true
   },
   "source": [
    "# Worked Example (Full SVD)"
   ]
  },
  {
   "cell_type": "markdown",
   "metadata": {},
   "source": [
    "Lets step through a worked example of 'Full' SVD. In practice this Full version is computationally expensive, since we must calculate the full matricies $U_{mm}$, $S_{mn}$, and $V_{nn}^{T}$. The 'Reduced' or 'Truncated' versions of SVD are usually preferred, where we can preselect the top $k < n$ dimensions of interest and calculate $U_{mm}$, $S_{mk}$, and $V_{kk}^{T}$\n",
    "\n",
    "\n",
    "**Along the way I'll also code the basic steps using the standard scientific Python libraries, so you can see how easily we can perform these calculations.**"
   ]
  },
  {
   "cell_type": "markdown",
   "metadata": {},
   "source": [
    "## Choose $A$"
   ]
  },
  {
   "cell_type": "markdown",
   "metadata": {},
   "source": [
    "Lets create a very simple matrix $A$. Perhaps this is two records of customer transactions at a supermarket, where we record the total number of items per category. You can easily see how in practice such a table could become very wide and over-specified, thus desirable to simplify.\n",
    "\n",
    "e.g.\n",
    "\n",
    "| CustomerID  | # fruit  |  # dairy |  # meat  |  # bakery |\n",
    "|:--:|--:|--:|--:|--:|\n",
    "| c1 | 5 | 0 | 2 | 4 |\n",
    "| c2 | 2 | 6 | 1 | 2 |\n",
    "\n",
    "\n",
    "which can be represented in matrix form:\n",
    "\n",
    "\n",
    "$$A = \\begin{bmatrix} 5 & 0 & 2 & 4\\\\ 2 & 6 & 1 & 2\\end{bmatrix}$$"
   ]
  },
  {
   "cell_type": "code",
   "execution_count": 19,
   "metadata": {},
   "outputs": [
    {
     "data": {
      "text/plain": [
       "array([[5, 0, 2, 4],\n",
       "       [2, 6, 1, 2]])"
      ]
     },
     "execution_count": 19,
     "metadata": {},
     "output_type": "execute_result"
    }
   ],
   "source": [
    "A, i = find_nice_A(shortcut=True)\n",
    "A"
   ]
  },
  {
   "cell_type": "markdown",
   "metadata": {},
   "source": [
    "## Create $U$"
   ]
  },
  {
   "cell_type": "markdown",
   "metadata": {},
   "source": [
    "$$U = eig(AA^{T}) = eig(\\begin{bmatrix} 5 & 0 & 2 & 4 \\\\ 2 & 6 & 1 & 2\\end{bmatrix} \\begin{bmatrix} 5 & 2 \\\\ 0 & 6 \\\\ 2 & 1 \\\\ 4 & 2\\end{bmatrix}) = eig(\\begin{bmatrix} 45 & 20 \\\\ 20 & 45\\end{bmatrix})$$\n"
   ]
  },
  {
   "cell_type": "code",
   "execution_count": 20,
   "metadata": {},
   "outputs": [
    {
     "data": {
      "text/plain": [
       "array([[45, 20],\n",
       "       [20, 45]])"
      ]
     },
     "execution_count": 20,
     "metadata": {},
     "output_type": "execute_result"
    }
   ],
   "source": [
    "AAT = A @ A.T\n",
    "AAT"
   ]
  },
  {
   "cell_type": "markdown",
   "metadata": {},
   "source": [
    "### Find the eigenvalues $\\lambda$ and eigenvectors $\\overrightarrow{v}$ of $AA^{T}$\n",
    "\n",
    "##### Finding eigenvalues $\\lambda$:\n",
    " \n",
    "$$ AA^{T} \\overrightarrow{v} = \\lambda \\overrightarrow{v} = \\begin{bmatrix} 45 & 20 \\\\ 20 & 45 \\end{bmatrix} \\begin{bmatrix} v_{1} \\\\ v_{2} \\end{bmatrix} = \\lambda \\begin{bmatrix} v_{1} \\\\ v_{2} \\end{bmatrix}$$\n",
    "\n",
    "We now treat each row as a part of a set of linear equations:\n",
    "\n",
    "$$45v_{1} + 20v_{2} = \\lambda v_{1} \\\\ 20v_{1} + 45v_{2} = \\lambda v_{2}$$\n",
    "\n",
    "... and rearrange:\n",
    "\n",
    "$$(45 - \\lambda)v_{1} + 20v_{2} = 0 \\\\ 20v_{1} + (45-\\lambda) v_{2} = 0$$\n",
    "\n",
    "Now we make use of of the necessary and sufficient condition that for this system to have a nonzero vector $\\overrightarrow{v}$, the determinant of the coefficient matrix must be zero:\n",
    "\n",
    "$$ \\begin{vmatrix} (45 - \\lambda) & 20 \\\\ 20 & (45 - \\lambda)\\end{vmatrix} = 0$$\n",
    "\n",
    "Using the simple determinant calculation from before:\n",
    "\n",
    "$$ (45 - \\lambda) (45 - \\lambda) -  (20 * 20)  = 0$$\n",
    "\n",
    "$$ \\lambda^{2} - 90\\lambda +1625 = 0$$\n",
    "\n",
    "This looks tricky, but I pre-prepared for the answer:\n",
    "\n",
    "$$ (\\lambda - 65) (\\lambda - 25) = 0$$\n",
    "\n",
    "So the two eigenvalues for this matrix are $\\lambda = 65$ and $\\lambda = 25$\n"
   ]
  },
  {
   "cell_type": "code",
   "execution_count": 21,
   "metadata": {},
   "outputs": [
    {
     "name": "stdout",
     "output_type": "stream",
     "text": [
      "lambda1 = 65\n",
      "lambda2 = 25\n"
     ]
    }
   ],
   "source": [
    "lmbU, U = np.linalg.eig(AAT)\n",
    "print('lambda1 = {:.0f}\\nlambda2 = {:.0f}'.format(lmbU[0],lmbU[1]))"
   ]
  },
  {
   "cell_type": "markdown",
   "metadata": {},
   "source": [
    "##### Finding eigenvectors $\\overrightarrow{v}$:\n",
    "\n",
    "\n",
    "We now plug our values for $\\lambda$ back into an equation from above, and reduce:\n",
    "\n",
    "Chosing the biggest eigenvalue first, i.e. setting $\\lambda = 65$:\n",
    "\n",
    "$$(45 - \\lambda)v_{1} + 20v_{2} = (45 - 65)v_{1} + 20v_{2} = -20v_{1} + 20v_{2} = 0$$\n",
    "\n",
    "This reduces to $v_{1} = v_{2}$ which has infinite values, so by convention we'll select the smallest possible vector that satisfies the equation: \n",
    "\n",
    "$$\\overrightarrow{v} = \\begin{bmatrix} 1 \\\\ 1 \\end{bmatrix}$$\n",
    "\n",
    "Note that `numpy.linalg.eig` employs a further convention which is to return the eigenvectors normalised to unit length, \n",
    "\n",
    "$$1 = \\sqrt(v_{1}^{2}+v_{2}^{2})$$\n",
    "\n",
    "\n",
    "thus our first eigenvector becomes:\n",
    "\n",
    "$$\\overrightarrow{v} = \\begin{bmatrix} \\frac{1}{\\sqrt{2}} \\\\ \\frac{1}{\\sqrt{2}} \\end{bmatrix}$$\n",
    "\n",
    "\n",
    "Secondly, setting $\\lambda = 25$:\n",
    "\n",
    "$$(45 - \\lambda)v_{1} + 20v_{2} = (45 - 25)v_{1} + 20v_{2} = 20v_{1} + 20v_{2} = 0$$\n",
    "\n",
    "This reduces to $v_{1} = -v_{2}$ which has infinite values, so by convention we'll select the smallest possible vector that satisfies the equation:\n",
    "\n",
    "$$\\overrightarrow{v} = \\begin{bmatrix} 1 \\\\ -1 \\end{bmatrix}$$\n",
    "\n",
    "Note that the chosen directionality of the eigenvectors is arbitrary, and not guaranteed to be preserved, thus we could equally choose our solution to be $-v_{1} = v_{2}$, and it's actually this version that `numpy.linalg.eig` chooses:\n",
    "\n",
    "$$\\overrightarrow{v} = \\begin{bmatrix} -1 \\\\ 1 \\end{bmatrix}$$\n",
    "\n",
    "\n",
    "Note again that `numpy.linalg.eig` employs a further convention which is to return the eigenvectors normalised to unit length, thus our second eigenvector becomes:\n",
    "\n",
    "$$\\overrightarrow{v} = \\begin{bmatrix} -\\frac{1}{\\sqrt{2}} \\\\ \\frac{1}{\\sqrt{2}} \\end{bmatrix}$$"
   ]
  },
  {
   "cell_type": "code",
   "execution_count": 22,
   "metadata": {},
   "outputs": [
    {
     "name": "stdout",
     "output_type": "stream",
     "text": [
      "v1:\n",
      "[[ 0.70710678]\n",
      " [ 0.70710678]]\n",
      "\n",
      "v2:\n",
      "[[-0.70710678]\n",
      " [ 0.70710678]]\n"
     ]
    }
   ],
   "source": [
    "print('v1:\\n{}\\n\\nv2:\\n{}'.format(U[:,0,None],U[:,1,None]))"
   ]
  },
  {
   "cell_type": "markdown",
   "metadata": {},
   "source": [
    "Note that our set of eigenvectors, $ \\begin{bmatrix} 1 & -1 \\\\ 1 & 1 \\end{bmatrix}$ is small and simple, and thus was trivial to convert into the required orthonormal form by hand:\n",
    "\n",
    "$$ U = \\begin{bmatrix} \\frac{1}{\\sqrt{2}} & -\\frac{1}{\\sqrt{2}} \\\\ \\frac{1}{\\sqrt{2}} & \\frac{1}{\\sqrt{2}} \\end{bmatrix} = \\begin{bmatrix} 0.707 & -0.707 \\\\ 0.707 & 0.707 \\end{bmatrix}$$\n",
    "\n",
    "However, for larger matricies this is likely to be difficult and we may wish to use e.g. the [Gram-Schmidt](https://en.wikipedia.org/wiki/Gram%E2%80%93Schmidt_process) orthonormalization process. In our case, `numpy` does the heavy lifting, so I won't go into any more detail."
   ]
  },
  {
   "cell_type": "markdown",
   "metadata": {},
   "source": [
    "## Create $V$"
   ]
  },
  {
   "cell_type": "markdown",
   "metadata": {},
   "source": [
    "$$V = eig(A^{T}A) = eig(\\begin{bmatrix} 5 & 2 \\\\ 0 & 6 \\\\ 2 & 1 \\\\ 4 & 2\\end{bmatrix} \\begin{bmatrix} 5 & 0 & 2 & 4 \\\\ 2 & 6 & 1 & 2\\end{bmatrix}) = eig(\\begin{bmatrix} 29 & 12 & 12 & 24 \\\\ 12 & 36 & 6 & 12 \\\\ 12 & 6 & 5 & 10 \\\\ 24 & 12 & 10 & 20 \\end{bmatrix})$$\n"
   ]
  },
  {
   "cell_type": "code",
   "execution_count": 23,
   "metadata": {},
   "outputs": [
    {
     "data": {
      "text/plain": [
       "array([[29, 12, 12, 24],\n",
       "       [12, 36,  6, 12],\n",
       "       [12,  6,  5, 10],\n",
       "       [24, 12, 10, 20]])"
      ]
     },
     "execution_count": 23,
     "metadata": {},
     "output_type": "execute_result"
    }
   ],
   "source": [
    "ATA = A.T @ A\n",
    "ATA"
   ]
  },
  {
   "cell_type": "markdown",
   "metadata": {},
   "source": [
    "### Find the eigenvalues $\\lambda$ and eigenvectors $\\overrightarrow{v}$ of $A^{T}A$\n",
    "\n",
    "This is the same procedure as for $AA^{T}$ above, so let save time and use `numpy`:"
   ]
  },
  {
   "cell_type": "code",
   "execution_count": 24,
   "metadata": {},
   "outputs": [
    {
     "name": "stdout",
     "output_type": "stream",
     "text": [
      "[  6.50000000e+01   2.50000000e+01  -5.79559478e-15   2.09774203e-16]\n",
      "[[-0.61394061  0.42426407 -0.61048658  0.05525028]\n",
      " [-0.52623481 -0.84852814 -0.05087388  0.00460419]\n",
      " [-0.26311741  0.14142136  0.66172683  0.86371563]\n",
      " [-0.52623481  0.28284271  0.43224482 -0.50092067]]\n"
     ]
    }
   ],
   "source": [
    "lmbV, V = np.linalg.eig(ATA)\n",
    "print(lmbV)\n",
    "print(V)"
   ]
  },
  {
   "cell_type": "code",
   "execution_count": 25,
   "metadata": {},
   "outputs": [
    {
     "data": {
      "text/plain": [
       "array([[-0.61394061, -0.52623481, -0.26311741, -0.52623481],\n",
       "       [ 0.42426407, -0.84852814,  0.14142136,  0.28284271],\n",
       "       [-0.61048658, -0.05087388,  0.66172683,  0.43224482],\n",
       "       [ 0.05525028,  0.00460419,  0.86371563, -0.50092067]])"
      ]
     },
     "execution_count": 25,
     "metadata": {},
     "output_type": "execute_result"
    }
   ],
   "source": [
    "V.T"
   ]
  },
  {
   "cell_type": "markdown",
   "metadata": {},
   "source": [
    "Note that `numpy` has returned floating point approximations, so let's write out the $\\lambda$ eigenvalues more clearly:\n",
    "\n",
    "$$\\lambda = 65 , 25 , 0 , 0 $$\n",
    "\n",
    "You can see these are the same values returned by $eig(AA^{T})$, padded with zeros at the end.\n",
    "\n",
    "Also for clarity lets write out $V^{T}$, note the columns of $V$ (thus the rows of $V^{T}$) are displayed in the same order as the eigenvalues $\\lambda$:\n",
    "\n",
    "$$ V^{T} = \\begin{bmatrix} -.614 & -0.526 & -0.263 & -0.526 \\\\ 0.424 & -0.849 & 0.141 & 0.283 \\\\ -0.610 & -0.051 & 0.662 & 0.432 \\\\ 0.055 & 0.005 & 0.864 & -0.501 \\end{bmatrix}$$\n",
    "\n"
   ]
  },
  {
   "cell_type": "markdown",
   "metadata": {},
   "source": [
    "## Create $S$"
   ]
  },
  {
   "cell_type": "markdown",
   "metadata": {},
   "source": [
    "To make $S$ we take the square-roots of the nonzero eigenvalues and place them on the diagonal of a matrix size $m * n$\n",
    "\n",
    "$$ S = \\begin{bmatrix} \\sqrt{65} & 0 & 0 & 0 \\\\ 0 & \\sqrt{25} & 0 & 0\\end{bmatrix}$$"
   ]
  },
  {
   "cell_type": "code",
   "execution_count": 26,
   "metadata": {},
   "outputs": [
    {
     "data": {
      "text/plain": [
       "array([[ 8.06225775,  0.        ,  0.        ,  0.        ],\n",
       "       [ 0.        ,  5.        ,  0.        ,  0.        ]])"
      ]
     },
     "execution_count": 26,
     "metadata": {},
     "output_type": "execute_result"
    }
   ],
   "source": [
    "S = np.sqrt(np.diag(abs(lmbV))[:2,:])\n",
    "S"
   ]
  },
  {
   "cell_type": "markdown",
   "metadata": {},
   "source": [
    "## Reconstruct $A$"
   ]
  },
  {
   "cell_type": "markdown",
   "metadata": {},
   "source": [
    "Lets put everything back together and check that our decomposition is valid:\n",
    "\n",
    "$$A = U S V^{T}$$\n",
    "\n",
    "$$\\begin{bmatrix} 5 & 0 & 2 & 4\\\\ 2 & 6 & 1 & 2\\end{bmatrix} = \\begin{bmatrix} 0.707 & -0.707 \\\\ 0.707 & 0.707 \\end{bmatrix} \\begin{bmatrix} 8.062 & 0 & 0 & 0 \\\\ 0 & 5 & 0 & 0\\end{bmatrix} \\begin{bmatrix} -.614 & -0.526 & -0.263 & -0.526 \\\\ 0.424 & -0.849 & 0.141 & 0.283 \\\\ -0.610 & -0.051 & 0.662 & 0.432 \\\\ 0.055 & 0.005 & 0.864 & -0.501 \\end{bmatrix} $$\n",
    "\n",
    "Hmm. I think I'll spare us all a lot of algebra and use numpy for this:"
   ]
  },
  {
   "cell_type": "code",
   "execution_count": 27,
   "metadata": {},
   "outputs": [
    {
     "data": {
      "text/plain": [
       "array([[-5., -0., -2., -4.],\n",
       "       [-2., -6., -1., -2.]])"
      ]
     },
     "execution_count": 27,
     "metadata": {},
     "output_type": "execute_result"
    }
   ],
   "source": [
    "reconA = np.round(U @ S @ V.T, 0)\n",
    "reconA"
   ]
  },
  {
   "cell_type": "markdown",
   "metadata": {},
   "source": [
    "Note the overall sign reversal, which is a side effect of the process, since the signs of the eigenvectors are not guaranteed stable. This affects the whole matrix though, so we can just multiply by -1 to find exactly $A$ again.\n",
    "\n",
    "\n",
    "...  it looks like our decomposition works! "
   ]
  },
  {
   "cell_type": "markdown",
   "metadata": {
    "collapsed": true
   },
   "source": [
    "---"
   ]
  },
  {
   "cell_type": "markdown",
   "metadata": {
    "collapsed": true
   },
   "source": [
    "# Using SVD for Feature Reduction"
   ]
  },
  {
   "cell_type": "markdown",
   "metadata": {},
   "source": [
    "SVD is not a new technique, and is classically used in several fields including signal compression and information retreival. As such, there are routines built into `scipy` which do all the heavy lifting for us; they're also well tested and robustly engineered, and are capable of dealing with many sitations including very large and sparse matrices.\n",
    "\n",
    "Now that we've seen the fundamentals, lets use SVD for something slightly more interesting: compressing the information in a real data source. We'll keep it very basic for now though, and use the classic `iris` dataset."
   ]
  },
  {
   "cell_type": "markdown",
   "metadata": {},
   "source": [
    "## Load Iris Dataset and Visualise"
   ]
  },
  {
   "cell_type": "code",
   "execution_count": 22,
   "metadata": {},
   "outputs": [
    {
     "name": "stdout",
     "output_type": "stream",
     "text": [
      "(150, 5)\n"
     ]
    },
    {
     "data": {
      "text/html": [
       "<div>\n",
       "<table border=\"1\" class=\"dataframe\">\n",
       "  <thead>\n",
       "    <tr style=\"text-align: right;\">\n",
       "      <th></th>\n",
       "      <th>sepal_length</th>\n",
       "      <th>sepal_width</th>\n",
       "      <th>petal_length</th>\n",
       "      <th>petal_width</th>\n",
       "      <th>species</th>\n",
       "    </tr>\n",
       "  </thead>\n",
       "  <tbody>\n",
       "    <tr>\n",
       "      <th>0</th>\n",
       "      <td>5.1</td>\n",
       "      <td>3.5</td>\n",
       "      <td>1.4</td>\n",
       "      <td>0.2</td>\n",
       "      <td>setosa</td>\n",
       "    </tr>\n",
       "    <tr>\n",
       "      <th>1</th>\n",
       "      <td>4.9</td>\n",
       "      <td>3.0</td>\n",
       "      <td>1.4</td>\n",
       "      <td>0.2</td>\n",
       "      <td>setosa</td>\n",
       "    </tr>\n",
       "    <tr>\n",
       "      <th>2</th>\n",
       "      <td>4.7</td>\n",
       "      <td>3.2</td>\n",
       "      <td>1.3</td>\n",
       "      <td>0.2</td>\n",
       "      <td>setosa</td>\n",
       "    </tr>\n",
       "    <tr>\n",
       "      <th>3</th>\n",
       "      <td>4.6</td>\n",
       "      <td>3.1</td>\n",
       "      <td>1.5</td>\n",
       "      <td>0.2</td>\n",
       "      <td>setosa</td>\n",
       "    </tr>\n",
       "    <tr>\n",
       "      <th>4</th>\n",
       "      <td>5.0</td>\n",
       "      <td>3.6</td>\n",
       "      <td>1.4</td>\n",
       "      <td>0.2</td>\n",
       "      <td>setosa</td>\n",
       "    </tr>\n",
       "  </tbody>\n",
       "</table>\n",
       "</div>"
      ],
      "text/plain": [
       "   sepal_length  sepal_width  petal_length  petal_width species\n",
       "0           5.1          3.5           1.4          0.2  setosa\n",
       "1           4.9          3.0           1.4          0.2  setosa\n",
       "2           4.7          3.2           1.3          0.2  setosa\n",
       "3           4.6          3.1           1.5          0.2  setosa\n",
       "4           5.0          3.6           1.4          0.2  setosa"
      ]
     },
     "execution_count": 22,
     "metadata": {},
     "output_type": "execute_result"
    }
   ],
   "source": [
    "iris = sns.load_dataset(\"iris\")\n",
    "print(iris.shape)\n",
    "iris.head()"
   ]
  },
  {
   "cell_type": "code",
   "execution_count": 23,
   "metadata": {},
   "outputs": [
    {
     "data": {
      "image/png": "[encoded data removed]",
      "text/plain": [
       "<matplotlib.figure.Figure at 0x104b57748>"
      ]
     },
     "metadata": {},
     "output_type": "display_data"
    }
   ],
   "source": [
    "g = sns.pairplot(iris, hue=\"species\")"
   ]
  },
  {
   "cell_type": "markdown",
   "metadata": {},
   "source": [
    "**Observe:**\n",
    "\n",
    "+ This dataset should be nothing new to our readers: 150 samples of iris flowers, each with 4 measurements of the flower body (sepals and petals)\n",
    "+ The data is 4-dimensional, so in order to plot it on a 2D surface (without any clever transformations) we need to use a pairplot, resulting in a 4x4 matrix: a feat which `seaborn` makes very easy\n",
    "+ Whilst we can see clusters of points according to species, the distinction is not always clear, and it would be useful to represent the data in a more compact way for plotting and further use.\n"
   ]
  },
  {
   "cell_type": "markdown",
   "metadata": {},
   "source": [
    "## Perform Feature Reduction"
   ]
  },
  {
   "cell_type": "code",
   "execution_count": 24,
   "metadata": {
    "collapsed": true
   },
   "outputs": [],
   "source": [
    "from scipy.sparse.linalg import svds"
   ]
  },
  {
   "cell_type": "code",
   "execution_count": 25,
   "metadata": {
    "collapsed": true
   },
   "outputs": [],
   "source": [
    "## mean center and ensure we're only passing in numeric features to svd\n",
    "u, s, vt = svds((iris - iris.mean()).iloc[:,:-1],2)"
   ]
  },
  {
   "cell_type": "markdown",
   "metadata": {},
   "source": [
    "### Create the principal components $P = US$"
   ]
  },
  {
   "cell_type": "code",
   "execution_count": 26,
   "metadata": {
    "collapsed": true
   },
   "outputs": [],
   "source": [
    "pc = u @ np.diag(s)\n",
    "pc = pc[:,::-1]"
   ]
  },
  {
   "cell_type": "markdown",
   "metadata": {},
   "source": [
    "### Measure the retained variance"
   ]
  },
  {
   "cell_type": "code",
   "execution_count": 27,
   "metadata": {},
   "outputs": [
    {
     "data": {
      "image/png": "[encoded data removed]",
      "text/plain": [
       "<matplotlib.figure.Figure at 0x10a3bdc18>"
      ]
     },
     "metadata": {},
     "output_type": "display_data"
    }
   ],
   "source": [
    "explained_variance = np.var(pc, axis=0)\n",
    "full_variance = np.var((iris - iris.mean()).iloc[:,:-1], axis=0)\n",
    "explained_variance_ratio = explained_variance / full_variance.sum()\n",
    "ax = pd.Series(explained_variance_ratio.cumsum()).plot(\n",
    "                    kind='line', figsize=(10,4)).set_ylim([0,1])"
   ]
  },
  {
   "cell_type": "markdown",
   "metadata": {},
   "source": [
    "Because we've reduced to 2 features, there's actually only 2 points on this plot. Let's just print them out:"
   ]
  },
  {
   "cell_type": "code",
   "execution_count": 28,
   "metadata": {},
   "outputs": [
    {
     "data": {
      "text/plain": [
       "array([ 0.92461872,  0.97768521])"
      ]
     },
     "execution_count": 28,
     "metadata": {},
     "output_type": "execute_result"
    }
   ],
   "source": [
    "explained_variance_ratio.cumsum()"
   ]
  },
  {
   "cell_type": "markdown",
   "metadata": {},
   "source": [
    "**Observe:**\n",
    "+ Well that's pretty great! Using just two principal components we've retained 97.77% of the variance of the original 4-dimensional data\n",
    "+ Note we could even reduce to a single component `c0` and retain 92.46% of the original varaince. This wouldn't produce a pretty scatterplot, but similar reductions to a single dimension can be useful for creating very simple decision boundaries for higher dimensional data."
   ]
  },
  {
   "cell_type": "markdown",
   "metadata": {},
   "source": [
    "## Visualise Reduced Dataset"
   ]
  },
  {
   "cell_type": "code",
   "execution_count": 29,
   "metadata": {},
   "outputs": [
    {
     "data": {
      "image/png": "[encoded data removed]",
      "text/plain": [
       "<matplotlib.figure.Figure at 0x109fcb780>"
      ]
     },
     "metadata": {},
     "output_type": "display_data"
    }
   ],
   "source": [
    "iris_svd = pd.concat((pd.DataFrame(pc, index=iris.index\n",
    "                        , columns=('c0','c1')), iris.loc[:,'species']),1)\n",
    "\n",
    "g = sns.lmplot('c0', 'c1', iris_svd, hue='species', fit_reg=False, size=8\n",
    "              ,scatter_kws={'alpha':0.7,'s':60})"
   ]
  },
  {
   "cell_type": "markdown",
   "metadata": {},
   "source": [
    "Observe:\n",
    "\n",
    "+ We have reduced the information on each of the 150 flowers from the original 4 features to a compact representation in 2-dimensional space: the principal components `c0` and `c1`\n",
    "+ We can plot the data in these two dimensions and see that the grouping is now more distinct and far easier for our eye to discern\n",
    "+ These two components actually retain $97.77\\%$ of the original variance, and the top component `c0` retains $92.46\\%$ by itself\n",
    "+ It's easy to imagine creating quite an efficient classifier for these flower species using just the single value for `c0`, a big reduction from the original 4 features."
   ]
  },
  {
   "cell_type": "markdown",
   "metadata": {},
   "source": [
    "# Further Reading"
   ]
  },
  {
   "cell_type": "markdown",
   "metadata": {},
   "source": [
    "### Our blog at Applied AI"
   ]
  },
  {
   "cell_type": "markdown",
   "metadata": {},
   "source": [
    "Earlier in the year I wrote a blogpost all about [Visualising High-Dimensional Data](http://blog.applied.ai/visualising-high-dimensional-data/), and used SVD for reducing a dataset from 147 original dimensions to just 50 principal components whilst preserving 98% of the original variance. Take a read through!"
   ]
  },
  {
   "cell_type": "markdown",
   "metadata": {},
   "source": [
    "### Another great independent guide"
   ]
  },
  {
   "cell_type": "markdown",
   "metadata": {},
   "source": [
    "My worked examples above were influenced by this helpful tutorial: http://www.ling.ohio-state.edu/~kbaker/pubs/Singular_Value_Decomposition_Tutorial.pdf"
   ]
  },
  {
   "cell_type": "markdown",
   "metadata": {},
   "source": [
    "### Various Questions on Stack Exchange network"
   ]
  },
  {
   "cell_type": "markdown",
   "metadata": {},
   "source": [
    "On CrossValidated - the stats network - see [this question](http://stats.stackexchange.com/questions/134282/relationship-between-svd-and-pca-how-to-use-svd-to-perform-pca) on the relationship of PCA and SVD."
   ]
  },
  {
   "cell_type": "markdown",
   "metadata": {},
   "source": [
    "---\n",
    "<!--<div style=float:right><img src=assets/img/applied-logo_100px.png></img></div>-->\n",
    "**&copy; Applied AI Ltd 2015**  \n",
    "<a href='http://www.applied.ai'>applied.ai</a>"
   ]
  }
 ],
 "metadata": {
  "kernelspec": {
   "display_name": "keras35",
   "language": "python",
   "name": "keras35"
  },
  "language_info": {
   "codemirror_mode": {
    "name": "ipython",
    "version": 3
   },
   "file_extension": ".py",
   "mimetype": "text/x-python",
   "name": "python",
   "nbconvert_exporter": "python",
   "pygments_lexer": "ipython3",
   "version": "3.5.4"
  }
 },
 "nbformat": 4,
 "nbformat_minor": 1
}
